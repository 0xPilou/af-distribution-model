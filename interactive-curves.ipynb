{
 "cells": [
  {
   "cell_type": "code",
   "execution_count": 29,
   "metadata": {},
   "outputs": [],
   "source": [
    "\n",
    "import matplotlib.pyplot as plt\n",
    "from ipywidgets import interact\n",
    "import numpy as np\n"
   ]
  },
  {
   "cell_type": "code",
   "execution_count": 30,
   "metadata": {},
   "outputs": [],
   "source": [
    "def calculate_burn_emission(burn_amount, drain_period_days, k, conversion_rate):\n",
    "        discount_factor = 1 / (1 - k * drain_period_days / 366)  # Simple discount factor\n",
    "        return burn_amount * conversion_rate * discount_factor"
   ]
  },
  {
   "cell_type": "code",
   "execution_count": 31,
   "metadata": {},
   "outputs": [],
   "source": [
    "burn_amount = 1000\n",
    "\n",
    "def interactive_burn_emission(k, conversion_rate):\n",
    "    drain_periods = np.linspace(1, 356, 100)  # Range of drain periods from 1 to 356 days\n",
    "    emissions = [calculate_burn_emission(burn_amount, period, k, conversion_rate) for period in drain_periods]\n",
    "    plt.figure(figsize=(10, 6))\n",
    "    plt.plot(drain_periods, emissions, label=f'Emission (Burnt: {burn_amount} $AF)')\n",
    "    plt.xlabel('Drain Period (days)')\n",
    "    plt.ylabel('Emission ($AF Tokens)')\n",
    "    plt.title('Emission per Drain Period')\n",
    "    plt.legend()\n",
    "    plt.grid(True)\n",
    "    plt.show()\n"
   ]
  },
  {
   "cell_type": "code",
   "execution_count": 34,
   "metadata": {},
   "outputs": [
    {
     "data": {
      "application/vnd.jupyter.widget-view+json": {
       "model_id": "ca33af974fb7410ca95bb7f3d0f06447",
       "version_major": 2,
       "version_minor": 0
      },
      "text/plain": [
       "interactive(children=(FloatSlider(value=0.5, description='k', max=1.0, min=0.01, step=0.01), FloatSlider(value…"
      ]
     },
     "metadata": {},
     "output_type": "display_data"
    },
    {
     "data": {
      "text/plain": [
       "<function __main__.interactive_burn_emission(k, conversion_rate)>"
      ]
     },
     "execution_count": 34,
     "metadata": {},
     "output_type": "execute_result"
    }
   ],
   "source": [
    "interact(interactive_burn_emission, k=(0.01, 1, 0.01), conversion_rate=(0.1, 10, 0.1))\n"
   ]
  },
  {
   "cell_type": "code",
   "execution_count": null,
   "metadata": {},
   "outputs": [],
   "source": []
  }
 ],
 "metadata": {
  "kernelspec": {
   "display_name": "Python 3",
   "language": "python",
   "name": "python3"
  },
  "language_info": {
   "codemirror_mode": {
    "name": "ipython",
    "version": 3
   },
   "file_extension": ".py",
   "mimetype": "text/x-python",
   "name": "python",
   "nbconvert_exporter": "python",
   "pygments_lexer": "ipython3",
   "version": "3.9.6"
  }
 },
 "nbformat": 4,
 "nbformat_minor": 2
}
